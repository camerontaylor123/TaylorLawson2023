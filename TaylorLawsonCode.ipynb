{
 "cells": [
  {
   "cell_type": "code",
   "execution_count": 27,
   "id": "f81bb0f0",
   "metadata": {},
   "outputs": [],
   "source": [
    "import msprime\n",
    "import matplotlib.pyplot as plt\n",
    "from IPython.display import display, SVG\n",
    "import numpy as np\n",
    "from PIL import Image\n",
    "from scipy import stats\n",
    "import tskit\n",
    "import random\n",
    "import pandas as pd\n",
    "from scipy.stats import linregress\n",
    "import math"
   ]
  },
  {
   "cell_type": "code",
   "execution_count": 28,
   "id": "52f90c34",
   "metadata": {},
   "outputs": [],
   "source": [
    "def store_data(name, data):\n",
    "    path = f\"TaylorLawsonData/{name}.csv\"\n",
    "    df = pd.DataFrame(data)\n",
    "    df.to_csv(path, index=False, header=False)\n",
    "    return None\n",
    "\n",
    "def get_data(name):\n",
    "    path = f\"TaylorLawsonData/{name}.csv\"\n",
    "    df = pd.read_csv(path, header=None)\n",
    "    return np.array(df)"
   ]
  },
  {
   "cell_type": "code",
   "execution_count": 161,
   "id": "9cd88b17",
   "metadata": {},
   "outputs": [],
   "source": [
    "# generates a demography and tree sequences, outputs genotype matrices and tree sequence data \n",
    "# ancestral population A, Bottleneck population B, General population C\n",
    "def tree_sequence(initial_A, initial_B, initial_C, time_bottleneck, seq_len,recom_rate,\n",
    "                  mut_rate, B_sample, C_sample, mig_rate, growth_rate, seed_ts=None):\n",
    "        # create a big population model and then split it \n",
    "    initial_Bfordemog=initial_B*math.e**(growth_rate*time_bottleneck)\n",
    "    demography = msprime.Demography()\n",
    "    demography.add_population(name = \"A\", initial_size = initial_A)\n",
    "    demography.add_population(name = \"B\", initial_size = initial_Bfordemog, growth_rate=growth_rate)\n",
    "    demography.add_population(name = \"C\", initial_size = initial_C)\n",
    "    demography.add_population_split(time = time_bottleneck, derived=[\"B\", \"C\"], \n",
    "                                    ancestral = \"A\")\n",
    "    demography.set_migration_rate('B', 'C', mig_rate) # https://tskit.dev/msprime/docs/stable/demography.html\n",
    "    \n",
    "    ts1 = msprime.sim_ancestry(samples = [\n",
    "                msprime.SampleSet(B_sample, population=\"B\"),\n",
    "                msprime.SampleSet(C_sample, population=\"C\")],\n",
    "                recombination_rate= recom_rate, sequence_length = seq_len,\n",
    "                                   demography=demography, random_seed= seed_ts)\n",
    "    mts1=msprime.mutate(ts1,rate=mut_rate, random_seed=seed_ts)\n",
    "    X = mts1.genotype_matrix().transpose()\n",
    "\n",
    "    XB = X[:B_sample*2,:]\n",
    "    XC = X[B_sample*2:,:]\n",
    "    \n",
    "    return X, XB, XC, mts1\n",
    "\n",
    "\n",
    "#find frequency of each SNP in genotype matrix \n",
    "def find_freq(X): \n",
    "    N , L = np.shape(X)\n",
    "    f = [0 for i in range(L)]\n",
    "    for i in range(L):\n",
    "        f[i] = np.sum(X[:,i])/N\n",
    "    return f\n",
    "    \n",
    "# creates vector of Bs based on chosen popuolation(XC here), selection coefficient and inclusion probability     \n",
    "def generate_B(XC, s, inclusion_prob, seed_B=None):\n",
    "    if seed_B is not None:\n",
    "        np.random.seed(seed_B)\n",
    "        random.seed(seed_B)\n",
    "    N, L = np.shape(XC)\n",
    "    f = find_freq(XC)\n",
    "    B = np.zeros(L)\n",
    "    \n",
    "    for i in range (L):\n",
    "        if f[i]==0 or f[i]==1:\n",
    "            sd = 0\n",
    "        else:\n",
    "            sd= np.power((f[i]*(1-f[i])), s)\n",
    "        B[i] = np.random.normal(loc=0.0, scale =sd)\n",
    "        if random.random()  >= inclusion_prob :\n",
    "            B[i] = 0\n",
    "    return B\n",
    "\n",
    "\n",
    "# input genotype matrices, effect sizes and chosen heritability in the general population and output heritability in both populations \n",
    "def heritability(XB, XC, B, h2,getY=False):\n",
    "    NC, L = np.shape(XC)\n",
    "    Y0C = np.zeros(NC)\n",
    "    for i in range(NC-1):\n",
    "        Y0C[i] = np.dot(B,XC[i,:])\n",
    "    VarY0C = np.var(Y0C)\n",
    "        \n",
    "    # use chosen heritability to find variance of phenotype\n",
    "    if VarY0C == 0:\n",
    "        VarE  = 0.0001\n",
    "    else:\n",
    "        VarE = VarY0C*(1-h2)/h2  \n",
    "    \n",
    "    # find variation in genotype for AJ\n",
    "    NB, L = np.shape(XB)\n",
    "    Y0B = np.zeros(NB)\n",
    "    for i in range (NB):\n",
    "        Y0B[i] = np.dot(B,XB[i,:])\n",
    "    VarY0B = np.var(Y0B)\n",
    "    \n",
    "    # use previously found Ve to find heritability for AJ\n",
    "    h2B = VarY0B/(VarE+VarY0B)\n",
    "    h2C = h2\n",
    "    if (getY):\n",
    "        YB = np.zeros(NB)\n",
    "        for i in range (NB):\n",
    "            YB[i] = Y0B[i] + np.random.normal(loc=0.0, scale =np.sqrt(VarE))\n",
    "        VarYB=np.var(YB)\n",
    "        return h2B, h2C, YB\n",
    "    else:\n",
    "        return h2B, h2C\n",
    "\n",
    "\n",
    "# input demography things and output heritability \n",
    "def demography_heritability (initial_A, initial_B, initial_C, time_bottleneck, \n",
    "                             seq_len, recom_rate, mut_rate, B_sample, C_sample, s, \n",
    "                             h2, inclusion_prob, mig_rate,growth_rate, seed_ts=None, seed_B=None):\n",
    "    X, XB, XC, mts1 = tree_sequence(initial_A, initial_B, initial_C, time_bottleneck, \n",
    "                                 seq_len,recom_rate, mut_rate, B_sample, C_sample, mig_rate, growth_rate, seed_ts)\n",
    "    B = generate_B(XC, s, inclusion_prob, seed_B=None)\n",
    "    h2B, h2C = heritability(XB, XC, abs(B), h2)\n",
    "    return h2B, h2C\n",
    "\n",
    "\n",
    "\n",
    "def minor_allele_freq(f):\n",
    "    fnew=[0 for i in range(len(f))]\n",
    "    for i in range (len(f)):\n",
    "        if f[i]<0.5:\n",
    "            fnew[i] = f[i]\n",
    "        else:\n",
    "            fnew[i] = 1-f[i]\n",
    "    return fnew\n",
    "\n",
    "\n",
    "def inference_power (f, B):\n",
    "    power = [0 for i in range(len(f))]\n",
    "    for i in range(len(f)):\n",
    "        power[i] = f[i]*(1-f[i])*(np.power(B[i], 2))\n",
    "    total_power = sum(power)\n",
    "    return total_power\n",
    "\n",
    "\n",
    "def show_corr_mat(X):\n",
    "    plt.matshow(abs(np.corrcoef(X.transpose())), cmap = 'Reds')\n",
    "    plt.show()\n"
   ]
  },
  {
   "cell_type": "code",
   "execution_count": 127,
   "id": "030c6549",
   "metadata": {},
   "outputs": [],
   "source": [
    "initial_A = 10_000\n",
    "initial_B = 1_000\n",
    "initial_C = 10_000\n",
    "seq_len = 10000\n",
    "recom_rate = 0.00001\n",
    "mut_rate = 0.000001\n",
    "B_sample = 1000\n",
    "C_sample = 1000\n",
    "s=-1\n",
    "h2 = 0.5 #chosen heritability in general population\n",
    "inclusion_prob = 1\n",
    "time_bottleneck = 200\n",
    "mig_rate = 0\n",
    "growth_rate = 0"
   ]
  },
  {
   "cell_type": "markdown",
   "id": "abda3198",
   "metadata": {},
   "source": [
    "# Figure 1 "
   ]
  },
  {
   "cell_type": "code",
   "execution_count": 128,
   "id": "5d4566d3",
   "metadata": {},
   "outputs": [],
   "source": [
    "X, Xgen, XAJ, mts1 = tree_sequence(initial_A, initial_B, initial_C, time_bottleneck, seq_len,recom_rate, mut_rate, B_sample, C_sample,mig_rate,growth_rate, seed_ts =2)\n",
    "B = generate_B(Xgen, s, inclusion_prob,0)\n",
    "fgen = minor_allele_freq(find_freq(Xgen))\n",
    "fAJ = minor_allele_freq(find_freq(XAJ))"
   ]
  },
  {
   "cell_type": "code",
   "execution_count": 129,
   "id": "ff32ef95",
   "metadata": {},
   "outputs": [],
   "source": [
    "fAJ_1 = []\n",
    "B_AJ_1 = []\n",
    "for i in range (len(fAJ)):\n",
    "    if fAJ[i] < 0.05 and abs(B[i]) <1500:\n",
    "        fAJ_1.append(fAJ[i])\n",
    "        B_AJ_1.append(B[i])\n",
    "B_AJ_1 = np.array(B_AJ_1)\n",
    "\n",
    "fgen_2 = []\n",
    "B_gen_2 = []\n",
    "for i in range (len(fgen)):\n",
    "    if fgen[i] < 0.05 and abs(B[i]) <1500:\n",
    "        fgen_2.append(fgen[i])\n",
    "        B_gen_2.append(B[i])\n",
    "B_gen_2 = np.array(B_gen_2)\n"
   ]
  },
  {
   "cell_type": "code",
   "execution_count": 130,
   "id": "0141a06d",
   "metadata": {},
   "outputs": [],
   "source": [
    "store_data(\"1a_bottleneck_f\" , fAJ_1)\n",
    "store_data(\"1a_general_f\", fgen_2)\n",
    "store_data('1a_bottleneck_B', B_AJ_1)\n",
    "store_data(\"1a_general_B\", B_gen_2)"
   ]
  },
  {
   "cell_type": "markdown",
   "id": "a345f957",
   "metadata": {},
   "source": [
    "# Figure 2 "
   ]
  },
  {
   "cell_type": "markdown",
   "id": "7fb816af",
   "metadata": {},
   "source": [
    "## a "
   ]
  },
  {
   "cell_type": "code",
   "execution_count": 131,
   "id": "6c1809b0",
   "metadata": {},
   "outputs": [],
   "source": [
    "n_2a =500\n",
    "\n",
    "fig2a_size1 = 1000\n",
    "fig2a_h1 = [0 for i in range (n_2a)]\n",
    "for i in range (n_2a):\n",
    "    fig2a_h1[i] = demography_heritability (initial_A, fig2a_size1, initial_C, time_bottleneck, \n",
    "                             seq_len, recom_rate, mut_rate, B_sample, C_sample, s, h2, inclusion_prob, mig_rate, growth_rate)[0]\n",
    "\n",
    "fig2a_size2 = 8000    \n",
    "fig2a_h2 = [0 for i in range (n_2a)]\n",
    "for i in range (n_2a):\n",
    "    fig2a_h2[i] = demography_heritability (initial_A, fig2a_size2, initial_C, time_bottleneck, \n",
    "                             seq_len, recom_rate, mut_rate, B_sample, C_sample, s, \n",
    "                             h2, inclusion_prob, mig_rate, growth_rate)[0]    \n",
    "    "
   ]
  },
  {
   "cell_type": "code",
   "execution_count": 132,
   "id": "5d027f02",
   "metadata": {},
   "outputs": [],
   "source": [
    "store_data(\"2a_size1\", fig2a_h1)\n",
    "store_data(\"2a_size2\", fig2a_h2)"
   ]
  },
  {
   "cell_type": "markdown",
   "id": "35740b54",
   "metadata": {},
   "source": [
    "## b"
   ]
  },
  {
   "cell_type": "code",
   "execution_count": 133,
   "id": "2931468a",
   "metadata": {},
   "outputs": [],
   "source": [
    "n_2b=30\n",
    "samples = 100\n",
    "\n",
    "size_2b = np.linspace(500,10000, num=n_2b)\n",
    "h2_2b = np.zeros((n_2b, samples))\n",
    "\n",
    "for j in range (samples):\n",
    "    for i in range (n_2b):\n",
    "        h2_2b[i,j] = demography_heritability(initial_A, size_2b[i], initial_C, time_bottleneck, seq_len, recom_rate, mut_rate, B_sample, C_sample, s, h2, inclusion_prob, mig_rate, growth_rate)[0]\n"
   ]
  },
  {
   "cell_type": "code",
   "execution_count": 134,
   "id": "8c80c095",
   "metadata": {},
   "outputs": [],
   "source": [
    "store_data(\"2b_h2matrix\", h2_2b)"
   ]
  },
  {
   "cell_type": "markdown",
   "id": "b613edcc",
   "metadata": {},
   "source": [
    "## c"
   ]
  },
  {
   "cell_type": "code",
   "execution_count": 135,
   "id": "84ea81ea",
   "metadata": {},
   "outputs": [],
   "source": [
    "n_2c =500\n",
    "\n",
    "fig2c_time1 = 50\n",
    "fig2c_h1 = [0 for i in range (n_2c)]\n",
    "for i in range (n_2c):\n",
    "    fig2c_h1[i] = demography_heritability (initial_A, initial_B, initial_C, fig2c_time1, \n",
    "                             seq_len, recom_rate, mut_rate, B_sample, C_sample, s, h2, inclusion_prob, mig_rate, growth_rate)[0]\n",
    "\n",
    "fig2c_time2 = 500    \n",
    "fig2c_h2 = [0 for i in range (n_2c)]\n",
    "for i in range (n_2c):\n",
    "    fig2c_h2[i] = demography_heritability (initial_A, initial_B, initial_C, fig2c_time2, \n",
    "                             seq_len, recom_rate, mut_rate, B_sample, C_sample, s, \n",
    "                             h2, inclusion_prob, mig_rate, growth_rate)[0]    \n"
   ]
  },
  {
   "cell_type": "code",
   "execution_count": 136,
   "id": "8ce73f8b",
   "metadata": {},
   "outputs": [],
   "source": [
    "store_data(\"2c_time1\", fig2c_h1)\n",
    "store_data(\"2c_time2\", fig2c_h2)"
   ]
  },
  {
   "cell_type": "markdown",
   "id": "26c1a999",
   "metadata": {},
   "source": [
    "## d "
   ]
  },
  {
   "cell_type": "code",
   "execution_count": 137,
   "id": "dea480a4",
   "metadata": {},
   "outputs": [],
   "source": [
    "fig2d_n=20\n",
    "fig2d_samples = 200\n",
    "fig2d_time = np.linspace(50,500, num=fig2d_n)\n",
    "fig2d_h = np.zeros((fig2d_n, fig2d_samples))\n",
    "\n",
    "for j in range (fig2d_samples):\n",
    "    for i in range (fig2d_n):\n",
    "        fig2d_h[i,j] = demography_heritability(initial_A, initial_B, initial_C, fig2d_time[i], \n",
    "                                               seq_len, recom_rate, mut_rate, B_sample, C_sample, \n",
    "                                               s, h2, inclusion_prob, mig_rate, growth_rate)[0]\n",
    "        \n",
    "\n",
    "h_var_2d = [0 for i in range (fig2d_n)]\n",
    "for i in range (fig2d_n):\n",
    "    h_var_2d[i] = np.var(fig2d_h[i,:])\n",
    "    "
   ]
  },
  {
   "cell_type": "code",
   "execution_count": 138,
   "id": "737ecb23",
   "metadata": {},
   "outputs": [],
   "source": [
    "B_2d = 1000 \n",
    "bs_sample_var_2d = np.zeros((fig2d_n, B_2d))\n",
    "var_2d = np.zeros((fig2d_n,B_2d))\n",
    "# Empty array to store bootstrap variances\n",
    "for i in range (fig2d_n):\n",
    "    bs_samples_2d = np.empty((B_2d, fig2d_samples))\n",
    "    for b in range (B_2d):\n",
    "        for j in range(fig2d_samples):\n",
    "            bs_samples_2d[b,j] = random.choice(fig2d_h[i,:])\n",
    "            \n",
    "        bs_sample_var_2d[i, b] = np.var(bs_samples_2d[b,:])\n",
    "    \n",
    "\n",
    "# Sort the bootstrap sample variances\n",
    "    var_2d[i,:] = np.sort(bs_sample_var_2d[i,:])"
   ]
  },
  {
   "cell_type": "code",
   "execution_count": 139,
   "id": "6adc8d0c",
   "metadata": {},
   "outputs": [],
   "source": [
    "store_data(\"2d_timevariances\", h_var_2d)\n",
    "store_data(\"2d_bootstrap\", var_2d)"
   ]
  },
  {
   "cell_type": "markdown",
   "id": "409a5d47",
   "metadata": {},
   "source": [
    "# Figure 3"
   ]
  },
  {
   "cell_type": "markdown",
   "id": "3cfe4a35",
   "metadata": {},
   "source": [
    "## a"
   ]
  },
  {
   "cell_type": "code",
   "execution_count": 140,
   "id": "66d3bf4e",
   "metadata": {},
   "outputs": [],
   "source": [
    "n_3a=10\n",
    "samples_3a = 400\n",
    "time_3a = [50,100,400]\n",
    "mig_3a = np.linspace(0,0.01,num=n_3a)\n",
    "h2_3a = np.zeros((n_3a,3,samples_3a))\n",
    "\n",
    "for j in range (samples_3a):\n",
    "    for i in range (n_3a):\n",
    "        for k in range(3):\n",
    "            h2_3a[i,k,j] = demography_heritability(initial_A, initial_B, initial_C, \n",
    "                                                   time_3a[k], seq_len, recom_rate, mut_rate, \n",
    "                                                   B_sample, C_sample, s, h2, inclusion_prob, \n",
    "                                                   mig_3a[i], growth_rate)[0]\n",
    "\n",
    "        "
   ]
  },
  {
   "cell_type": "code",
   "execution_count": 141,
   "id": "c2a3fc4d",
   "metadata": {},
   "outputs": [],
   "source": [
    "fig3a_h2_time1=np.array(h2_3a[:,0,:])\n",
    "fig3a_h2_time2=np.array(h2_3a[:,1,:])\n",
    "fig3a_h2_time3=np.array(h2_3a[:,2,:])"
   ]
  },
  {
   "cell_type": "code",
   "execution_count": 142,
   "id": "0dfa7667",
   "metadata": {},
   "outputs": [],
   "source": [
    "store_data(\"3a_h2_time1\", fig3a_h2_time1)\n",
    "store_data(\"3a_h2_time2\", fig3a_h2_time2)\n",
    "store_data(\"3a_h2_time3\", fig3a_h2_time3)"
   ]
  },
  {
   "cell_type": "markdown",
   "id": "71b88830-e8d6-4b4b-87d0-5e6844605427",
   "metadata": {},
   "source": [
    "store_data(\"3b_h2_size1\", h2_3b[0,:,:])\n",
    "store_data(\"3b_h2_size2\", h2_3b[1,:,:])\n",
    "store_data(\"3b_h2_size3\", h2_3b[2,:,:])\n",
    "store_data(\"3b_h2_size4\", h2_3b[3,:,:])"
   ]
  },
  {
   "cell_type": "markdown",
   "id": "0013f775",
   "metadata": {},
   "source": [
    "# c"
   ]
  },
  {
   "cell_type": "code",
   "execution_count": 143,
   "id": "5fb8e88f",
   "metadata": {},
   "outputs": [],
   "source": [
    "\n",
    "alpha_3c = [0,0.004,0.008,0.012, 0.015]\n",
    "\n",
    "n_3c=10\n",
    "samples_3c = 400\n",
    "size_3c = np.linspace(100,10000, num=n_3c)\n",
    "h2_3c = np.zeros((5, n_3c, samples_3c))\n",
    "\n",
    "\n",
    "for k in range (5):\n",
    "    for j in range (samples_3c):\n",
    "        for i in range (n_3c):\n",
    "            h2_3c[k,i,j] = demography_heritability(initial_A, size_3c[i], initial_C, time_bottleneck, seq_len, \n",
    "                                                   recom_rate, mut_rate, B_sample, C_sample, s, h2, inclusion_prob, \n",
    "                                                   mig_rate, alpha_3c[k])[0]\n"
   ]
  },
  {
   "cell_type": "code",
   "execution_count": 144,
   "id": "63f9a1ec",
   "metadata": {},
   "outputs": [],
   "source": [
    "store_data(\"3c_h2_growth1\", h2_3c[0,:,:])\n",
    "store_data(\"3c_h2_growth2\", h2_3c[1,:,:])\n",
    "store_data(\"3c_h2_growth3\", h2_3c[2,:,:])\n",
    "store_data(\"3c_h2_growth4\", h2_3c[3,:,:])\n",
    "store_data(\"3c_h2_growth5\", h2_3c[4,:,:])"
   ]
  },
  {
   "cell_type": "markdown",
   "id": "6e477ab3",
   "metadata": {},
   "source": [
    "# Figure 4"
   ]
  },
  {
   "cell_type": "code",
   "execution_count": 168,
   "id": "9e9c5162",
   "metadata": {},
   "outputs": [],
   "source": [
    "def observed_trait(XB, XC,B, threshold):\n",
    "    N, L =np.shape(XC)\n",
    "    \n",
    "    B_obs = []\n",
    "    f_obs = []\n",
    "    # set SNPs that arent above the threshold to 0\n",
    "    f = find_freq(XB)\n",
    "    for i in range (L):\n",
    "        power = f[i]*(1-f[i])*(np.power(B[i], 2))\n",
    "        if power > threshold:\n",
    "            B_obs.append(B[i])\n",
    "            f_obs.append(f[i])\n",
    "    return B_obs, f_obs\n",
    "\n",
    "def observed_heritability(XB, XC, B, h2, threshold):\n",
    "    N, L =np.shape(XC)\n",
    "    Y0C = np.zeros(N)\n",
    "    for i in range(N-1):\n",
    "        Y0C[i] = np.dot(B, XC[i,:])\n",
    "    VarY0C = np.var(Y0C)\n",
    "    \n",
    "    if VarY0C == 0:\n",
    "        VarE = 0.0001\n",
    "    else:\n",
    "        VarE = VarY0C*(1-h2)/h2\n",
    "        \n",
    "    # find variation in genotype for AJ\n",
    "    Y0B = np.zeros(N)\n",
    "    for i in range (N):\n",
    "        Y0B[i] = np.dot(B,XB[i,:])\n",
    "    VarY0B = np.var(Y0B)    \n",
    "    \n",
    "    h2B = VarY0B/(VarE+VarY0B)\n",
    "    \n",
    "    B_obs = [0 for i in range(L)]\n",
    "    # set SNPs that arent above the threshold to 0\n",
    "    f = find_freq(XB)\n",
    "    for i in range (L):\n",
    "        power = f[i]*(1-f[i])*(np.power(B[i], 2))\n",
    "        if power > threshold:\n",
    "            B_obs[i] = B[i]\n",
    "         \n",
    "            \n",
    "    # find variation in genotype for AJ\n",
    "    Y0B_obs = np.zeros(N)\n",
    "    for i in range (N):\n",
    "        Y0B_obs[i] = np.dot(B_obs,XB[i,:])\n",
    "    VarY0B_obs = np.var(Y0B_obs)\n",
    "    \n",
    "    # use previously found Ve to find heritability for AJ\n",
    "    h2B_obs = VarY0B_obs/(VarE+VarY0B_obs)\n",
    "\n",
    "    return h2B, h2B_obs\n",
    "\n",
    "def power_quantiles(X, B, quantiles):\n",
    "    f = find_freq(X)\n",
    "    power = [0 for i in range (len(B))]\n",
    "    for i in range(len(B)):\n",
    "        power[i] = f[i]*(1-f[i])*(np.power(B[i], 2))\n",
    "    thresholds = np.quantile(power, quantiles)\n",
    "    return thresholds, power\n",
    "\n",
    "def pval_quantiles(Y, X, quantiles):\n",
    "    pvals=get_neglog10vals(Y,X)\n",
    "    thresholds = np.quantile(pvals, quantiles)\n",
    "    return thresholds, pvals\n",
    "\n",
    "def observed_heritability_pval(pvals, XB, XC, B, h2, threshold):\n",
    "    N, L =np.shape(XC)\n",
    "    Y0C = np.zeros(N)\n",
    "    for i in range(N-1):\n",
    "        Y0C[i] = np.dot(B, XC[i,:])\n",
    "    VarY0C = np.var(Y0C)\n",
    "    \n",
    "    if VarY0C == 0:\n",
    "        VarE = 0.0001\n",
    "    else:\n",
    "        VarE = VarY0C*(1-h2)/h2\n",
    "        \n",
    "    # find variation in genotype for AJ\n",
    "    Y0B = np.zeros(N)\n",
    "    for i in range (N):\n",
    "        Y0B[i] = np.dot(B,XB[i,:])\n",
    "    VarY0B = np.var(Y0B)    \n",
    "    \n",
    "    h2B = VarY0B/(VarE+VarY0B)\n",
    "    \n",
    "    B_obs = [0 for i in range(L)]\n",
    "    # set SNPs that arent above the threshold to 0\n",
    "    for i in range (L):\n",
    "        if pvals[i] > threshold:\n",
    "            B_obs[i] = B[i]\n",
    "         \n",
    "            \n",
    "    # find variation in genotype for AJ\n",
    "    Y0B_obs = np.zeros(N)\n",
    "    for i in range (N):\n",
    "        Y0B_obs[i] = np.dot(B_obs,XB[i,:])\n",
    "    VarY0B_obs = np.var(Y0B_obs)\n",
    "    \n",
    "    # use previously found Ve to find heritability for AJ\n",
    "    h2B_obs = VarY0B_obs/(VarE+VarY0B_obs)\n",
    "\n",
    "    return h2B, h2B_obs\n",
    "\n",
    "quantiles_4 = [(1-1/(2**n)) for n in range(13)]\n",
    "\n",
    "def get_neglog10vals(Y,X):\n",
    "    nsnps=np.shape(X)[1]\n",
    "    neglog10pvals=np.zeros(nsnps)\n",
    "    for i in range(nsnps):\n",
    "        slope, intercept, r_value, pvalue, std_err = linregress(Y, X[:, i])\n",
    "        neglog10pvals[i]=-np.log10(pvalue+1e-100)\n",
    "    return neglog10pvals\n",
    "\n",
    "def demography_compute_thresholds(initial_A, initial_B, initial_C, time_bottleneck, \n",
    "                             seq_len, recom_rate, mut_rate, B_sample, C_sample, s, \n",
    "                             h2, inclusion_prob, mig_rate,growth_rate, seed_ts=None, seed_B=None):\n",
    "    X, XB, XC, mts1 = tree_sequence(initial_A, initial_B, initial_C, time_bottleneck, \n",
    "                                 seq_len,recom_rate, mut_rate, B_sample, C_sample, mig_rate, growth_rate, seed_ts)\n",
    "    B = generate_B(XC, s, inclusion_prob, seed_B=None)\n",
    "    thresholds, power = power_quantiles(XB , B, quantiles_4)\n",
    "    return power, thresholds, XB, XC, B\n",
    "\n",
    "def demography_compute_thresholds_pvals(initial_A, initial_B, initial_C, time_bottleneck, \n",
    "                             seq_len, recom_rate, mut_rate, B_sample, C_sample, s, \n",
    "                             h2, inclusion_prob, mig_rate,growth_rate, seed_ts=None, seed_B=None):\n",
    "    X, XB, XC, mts1 = tree_sequence(initial_A, initial_B, initial_C, time_bottleneck, \n",
    "                                 seq_len,recom_rate, mut_rate, B_sample, C_sample, mig_rate, growth_rate, seed_ts)\n",
    "    B = generate_B(XC, s, inclusion_prob, seed_B=None)\n",
    "    h2B, h2C, YB = heritability(XB, XC, B, h2,getY=True)\n",
    "    thresholds, neglog10pvals = pval_quantiles(YB, XB , quantiles_4)\n",
    "    return neglog10pvals, thresholds, XB, XC, B, YB\n"
   ]
  },
  {
   "cell_type": "code",
   "execution_count": 171,
   "id": "2f035970",
   "metadata": {},
   "outputs": [],
   "source": [
    "n_4 = 200\n",
    "power_all_4 = [0 for i in range (n_4)]\n",
    "thresholds_all_4 = [0 for i in range (n_4)]\n",
    "XB_all_4 = [0 for i in range (n_4)]\n",
    "XC_all_4 = [0 for i in range (n_4)]\n",
    "B_all_4 = [0 for i in range(n_4)]\n",
    "\n",
    "for i in range (n_4):\n",
    "    power_all_4[i], thresholds_all_4[i], XB_all_4[i], XC_all_4[i], B_all_4[i] = demography_compute_thresholds(initial_A, initial_B, initial_C, time_bottleneck, \n",
    "                             seq_len, recom_rate, mut_rate, B_sample, C_sample, s, \n",
    "                             h2, inclusion_prob, mig_rate,growth_rate, seed_ts=None, seed_B=None)\n",
    "\n",
    "thresholds_4 = np.mean(thresholds_all_4, axis = 0)  \n"
   ]
  },
  {
   "cell_type": "code",
   "execution_count": 172,
   "id": "41bb8497",
   "metadata": {},
   "outputs": [],
   "source": [
    "h2B_all_4 = np.zeros((n_4,13))\n",
    "h2B_obs_all_4 = np.zeros((n_4,13))\n",
    "for j in range(13):\n",
    "    for i in range (n_4):\n",
    "        h2B_all_4[i,j], h2B_obs_all_4[i,j] = observed_heritability(XB_all_4[i], XC_all_4[i], B_all_4[i], h2, thresholds_4[j])"
   ]
  },
  {
   "cell_type": "code",
   "execution_count": 173,
   "id": "5269c00e",
   "metadata": {},
   "outputs": [],
   "source": [
    "store_data(\"4_simulated\", h2B_all_4)\n",
    "store_data(\"4_observed\", h2B_obs_all_4)"
   ]
  },
  {
   "cell_type": "markdown",
   "id": "92687412-b8db-4e9a-9d58-b31da15bc248",
   "metadata": {},
   "source": [
    "# 4b (thresholding on pvals)"
   ]
  },
  {
   "cell_type": "code",
   "execution_count": 163,
   "id": "a484fc33-8ec7-4c74-83d6-03d3de9b5d75",
   "metadata": {},
   "outputs": [],
   "source": [
    "    neglog10_pvals = [0 for i in range (n_4)]\n",
    "thresholds_all_4_pvals = [0 for i in range (n_4)]\n",
    "XB_all_4_pvals = [0 for i in range (n_4)]\n",
    "XC_all_4_pvals = [0 for i in range (n_4)]\n",
    "B_all_4_pvals = [0 for i in range(n_4)]\n",
    "Y_all_4_pvals = [0 for i in range(n_4)]\n",
    "\n",
    "for i in range (n_4):\n",
    "    neglog10_pvals[i], thresholds_all_4_pvals[i], XB_all_4_pvals[i], XC_all_4_pvals[i], B_all_4_pvals[i], Y_all_4_pvals[i] = demography_compute_thresholds_pvals(initial_A, initial_B,\n",
    "                             initial_C, time_bottleneck, \n",
    "                             seq_len, recom_rate, mut_rate, B_sample, C_sample, s, \n",
    "                             h2, inclusion_prob, mig_rate,growth_rate, seed_ts=None, seed_B=None)\n",
    "thresholds_4_pvals = np.mean(thresholds_all_4_pvals, axis = 0)  "
   ]
  },
  {
   "cell_type": "code",
   "execution_count": null,
   "id": "a2c51888-0a16-42c9-941b-b19a9d708e20",
   "metadata": {},
   "outputs": [],
   "source": []
  },
  {
   "cell_type": "code",
   "execution_count": 169,
   "id": "b90acde0-ee12-4ede-ba6b-a241805c07fe",
   "metadata": {},
   "outputs": [],
   "source": [
    "h2B_all_4_pvals = np.zeros((n_4,13))\n",
    "h2B_obs_all_4_pvals = np.zeros((n_4,13))\n",
    "for j in range(13):\n",
    "    for i in range (n_4):\n",
    "        h2B_all_4_pvals[i,j], h2B_obs_all_4_pvals[i,j] = observed_heritability_pval(neglog10_pvals[i],XB_all_4_pvals[i], XC_all_4_pvals[i],\n",
    "                                                                               B_all_4_pvals[i], h2, thresholds_4_pvals[j])"
   ]
  },
  {
   "cell_type": "code",
   "execution_count": 170,
   "id": "c4445bbf-4845-409c-b173-a2a2731f4b34",
   "metadata": {},
   "outputs": [],
   "source": [
    "store_data(\"4_simulated_pvals\", h2B_all_4_pvals)\n",
    "store_data(\"4_observed_pvals\", h2B_obs_all_4_pvals)"
   ]
  },
  {
   "cell_type": "markdown",
   "id": "8915c7fb",
   "metadata": {},
   "source": [
    "## a "
   ]
  },
  {
   "cell_type": "code",
   "execution_count": null,
   "id": "a6ca3457",
   "metadata": {},
   "outputs": [],
   "source": [
    "plt.figure(figsize=(12,9))\n",
    "\n",
    "plt.hist(h2B_all_4[:,7], bins=np.arange(0, 1 +0.02, 0.03), alpha=0.7, label = \"real \")\n",
    "plt.hist(h2B_obs_all_4[:,7], bins=np.arange(0, 1+0.02 , 0.03), alpha = 0.7, label = 'observed')\n",
    "#plt.xlim(xmin=0, xmax = 1)\n",
    "plt.axvline(0.5, color = 'black', linewidth =5, label = \"Heritability in the General Population\")\n",
    "plt.xlabel(\"Heritability\",fontsize=14)\n",
    "plt.ylabel(\"Frequency\",fontsize=14)\n",
    "plt.axvline(np.mean(h2B_all_4[:,7]), linestyle='dashed', linewidth=2, label = 'real mean')\n",
    "plt.axvline(np.mean(h2B_obs_all_4[:,7]), color = 'darkorange', linestyle='dashed', linewidth=2, label = 'observed mean')\n",
    "plt.xlabel(\"Heritability\",fontsize=14)\n",
    "plt.title(\"Heritability Distribution with Threshold of 1/2^7\")\n",
    "plt.legend(fontsize=12)\n",
    "plt.show()"
   ]
  },
  {
   "cell_type": "markdown",
   "id": "62f8a848",
   "metadata": {},
   "source": [
    "## b"
   ]
  },
  {
   "cell_type": "code",
   "execution_count": null,
   "id": "21d3bf0e",
   "metadata": {},
   "outputs": [],
   "source": [
    "plt.figure(figsize=(12,9))\n",
    "\n",
    "plt.hist(h2B_all_4[:,9], bins=np.arange(0, 1 +0.02, 0.03), alpha=0.7, label = \"real \")\n",
    "plt.hist(h2B_obs_all_4[:,9], bins=np.arange(0, 1+0.02 , 0.03), alpha = 0.7, label = 'observed')\n",
    "#plt.xlim(xmin=0, xmax = 1)\n",
    "plt.axvline(0.5, color = 'black', linewidth =5, label = \"Heritability in the General Population\")\n",
    "plt.xlabel(\"Heritability\",fontsize=14)\n",
    "plt.ylabel(\"Frequency\",fontsize=14)\n",
    "plt.axvline(np.mean(h2B_all_4[:,9]), linestyle='dashed', linewidth=2, label = 'real mean')\n",
    "plt.axvline(np.mean(h2B_obs_all_4[:,9]), color = 'darkorange', linestyle='dashed', linewidth=2, label = 'observed mean')\n",
    "plt.xlabel(\"Heritability\",fontsize=14)\n",
    "plt.title(\"Heritability Distribution with Threshold of 1/2^9\")\n",
    "plt.legend(fontsize=12)\n",
    "plt.show()"
   ]
  },
  {
   "cell_type": "markdown",
   "id": "1c6f80b3",
   "metadata": {},
   "source": [
    "## c"
   ]
  },
  {
   "cell_type": "code",
   "execution_count": null,
   "id": "5be8a213",
   "metadata": {},
   "outputs": [],
   "source": [
    "plt.figure(figsize = (10,10))\n",
    "plt.plot(np.linspace(0,1,10), np.linspace(0,1,10))\n",
    "plt.scatter(h2B_all_4[:,0], h2B_obs_all_4[:,3], label = 'n = 3')\n",
    "plt.scatter(h2B_all_4[:,1], h2B_obs_all_4[:,5], label = 'n = 5')\n",
    "plt.scatter(h2B_all_4[:,2], h2B_obs_all_4[:,7], label = 'n = 7')\n",
    "plt.scatter(h2B_all_4[:,3], h2B_obs_all_4[:,9], label = 'n = 9')\n",
    "plt.xlabel(\"True Heritbaility\")\n",
    "plt.ylabel(\"Obeserved Heritability\")\n",
    "plt.title(\"Heritability Values Under Thresholds of 1/(2^n)\")\n",
    "plt.legend()"
   ]
  },
  {
   "cell_type": "markdown",
   "id": "6fd3ed0f",
   "metadata": {},
   "source": [
    "## d"
   ]
  },
  {
   "cell_type": "code",
   "execution_count": null,
   "id": "e4dc9c92",
   "metadata": {},
   "outputs": [],
   "source": [
    "corr_4d = []\n",
    "for i in range (13):\n",
    "    r = np.corrcoef(h2B_all_4[:,i], h2B_obs_all_4[:,i])[0,1]\n",
    "    corr_4d.append(r)\n",
    "corr_4d = np.array(corr_4d)\n",
    "#transformation\n",
    "\n",
    "z_4d = [(1/2)*np.log((1+corr_4d[i])/(1-corr_4d[i])) for i in range(13)]\n"
   ]
  },
  {
   "cell_type": "code",
   "execution_count": null,
   "id": "65f05acc",
   "metadata": {},
   "outputs": [],
   "source": [
    "stderr_z_4d = 1/np.sqrt(200 -3)\n",
    "z_low_4d = z_4d- 2*stderr_z_4d\n",
    "z_high_4d = z_4d + 2*stderr_z_4d\n",
    "r_high_4d = (np.exp(2*z_high_4d)-1)/(np.exp(2*z_high_4d)+1)\n",
    "r_low_4d = (np.exp(2*z_low_4d)-1)/(np.exp(2*z_low_4d)+1)"
   ]
  },
  {
   "cell_type": "code",
   "execution_count": null,
   "id": "0141b2d3",
   "metadata": {},
   "outputs": [],
   "source": [
    "store_data(\"4d_correlations\", corr_4d)\n",
    "store_data(\"4d_rlow\", r_low_4d)\n",
    "store_data(\"4d_rhigh\", r_high_4d)"
   ]
  },
  {
   "cell_type": "markdown",
   "id": "5efa45cf",
   "metadata": {},
   "source": [
    "# Supplementary material 1 "
   ]
  },
  {
   "cell_type": "code",
   "execution_count": null,
   "id": "5dd10cc6",
   "metadata": {
    "scrolled": true
   },
   "outputs": [],
   "source": [
    "n_sm1 =500\n",
    "\n",
    "sm1_len1 = 10000\n",
    "sm1_recom1 = 0.00001\n",
    "sm1_mut1 = 0.000001\n",
    "sm1_h1 = [0 for i in range (n_sm1)]\n",
    "for i in range (n_sm1):\n",
    "    sm1_h1[i] = demography_heritability (initial_A, initial_B, initial_C, time_bottleneck, \n",
    "                             sm1_len1, sm1_recom1, sm1_mut1, B_sample, C_sample, s, \n",
    "                             h2, inclusion_prob, mig_rate, growth_rate)[0]\n",
    "\n",
    "    \n",
    "\n",
    "\n",
    "sm1_len2 = 1000\n",
    "sm1_recom2 = 0.0001\n",
    "sm1_mut2 = 0.00001    \n",
    "sm1_h2 = [0 for i in range (n_sm1)]\n",
    "for i in range (n_sm1):\n",
    "    sm1_h2[i] = demography_heritability (initial_A, initial_B, initial_C, time_bottleneck, \n",
    "                             sm1_len2, sm1_recom2, sm1_mut2, B_sample, C_sample, s, \n",
    "                             h2, inclusion_prob, mig_rate, growth_rate)[0]\n",
    "    \n",
    "\n",
    "\n",
    "sm1_len3 = 100\n",
    "sm1_recom3 = 0.001\n",
    "sm1_mut3 = 0.0001    \n",
    "sm1_h3 = [0 for i in range (n_sm1)]\n",
    "for i in range (n_sm1):\n",
    "    sm1_h3[i] = demography_heritability (initial_A, initial_B, initial_C, time_bottleneck, \n",
    "                             sm1_len3, sm1_recom3, sm1_mut3, B_sample, C_sample, s, \n",
    "                             h2, inclusion_prob, mig_rate, growth_rate)[0]\n",
    "    \n",
    "sm1_len4 = 10\n",
    "sm1_recom4 = 0.01\n",
    "sm1_mut4 = 0.001    \n",
    "sm1_h4 = [0 for i in range (n_sm1)]\n",
    "for i in range (n_sm1):\n",
    "    sm1_h4[i] = demography_heritability (initial_A, initial_B, initial_C, time_bottleneck, \n",
    "                             sm1_len4, sm1_recom4, sm1_mut4, B_sample, C_sample, s, \n",
    "                             h2, inclusion_prob, mig_rate, growth_rate)[0]"
   ]
  },
  {
   "cell_type": "code",
   "execution_count": null,
   "id": "14801397",
   "metadata": {},
   "outputs": [],
   "source": [
    "\n",
    "sm1_len4 = 10\n",
    "sm1_recom4 = 0.01\n",
    "sm1_mut4 = 0.001    \n",
    "sm1_h4 = [0 for i in range (n_sm1)]\n",
    "for i in range (n_sm1):\n",
    "    sm1_h4[i] = demography_heritability (initial_A, initial_B, initial_C, time_bottleneck, \n",
    "                             sm1_len4, sm1_recom4, sm1_mut4, B_sample, C_sample, s, \n",
    "                             h2, inclusion_prob, mig_rate, growth_rate)[0]\n",
    "    "
   ]
  },
  {
   "cell_type": "code",
   "execution_count": null,
   "id": "c8e6eb4a",
   "metadata": {},
   "outputs": [],
   "source": [
    "store_data(\"sm1_1\", sm1_h1)\n",
    "store_data(\"sm1_2\", sm1_h2)\n",
    "store_data(\"sm1_3\", sm1_h3)\n",
    "store_data(\"sm1_4\", sm1_h4)\n"
   ]
  },
  {
   "cell_type": "markdown",
   "id": "8ab5f3bc",
   "metadata": {},
   "source": [
    "# Supplementary material 2"
   ]
  },
  {
   "cell_type": "code",
   "execution_count": null,
   "id": "51e9c8bd",
   "metadata": {},
   "outputs": [],
   "source": [
    "n_sm2 = 500\n",
    "\n",
    "\n",
    "sm2_len1 = 10000\n",
    "sm2_recom1 = 0.00001\n",
    "sm2_mut1 = 0.000001\n",
    "\n",
    "sm2_h1 = [0 for i in range (n_sm2)]\n",
    "for i in range (n_sm2):\n",
    "    sm2_h1[i] = demography_heritability (initial_A, initial_B, initial_C, time_bottleneck, \n",
    "                             sm2_len1, sm2_recom1, sm2_mut1, B_sample, C_sample, s, \n",
    "                                    h2, inclusion_prob, mig_rate, growth_rate)[0]\n",
    "\n",
    "sm2_len2 = 10000\n",
    "sm2_recom2 = 0.000000001\n",
    "sm2_mut2 = 0.000001\n",
    "sm2_h2 = [0 for i in range (n_sm2)]\n",
    "for i in range (n_sm2):\n",
    "    sm2_h2[i] = demography_heritability (initial_A, initial_B, initial_C, time_bottleneck, \n",
    "                             sm2_len2, sm2_recom2, sm2_mut2, B_sample, C_sample, s, \n",
    "                                       h2, inclusion_prob, mig_rate, growth_rate)[0]\n",
    "    "
   ]
  },
  {
   "cell_type": "code",
   "execution_count": null,
   "id": "f95e4591",
   "metadata": {},
   "outputs": [],
   "source": [
    "store_data(\"sm2_1\", sm2_h1)\n",
    "store_data(\"sm2_2\", sm2_h2)"
   ]
  },
  {
   "cell_type": "code",
   "execution_count": 123,
   "id": "bfe363c5",
   "metadata": {},
   "outputs": [
    {
     "name": "stdout",
     "output_type": "stream",
     "text": [
      "0.14158167539435085 0.13680792495971328\n"
     ]
    }
   ],
   "source": [
    " ## A base case scenario: \n",
    "initial_B=100\n",
    "growth_rate=0.0\n",
    "mig_rate=0\n",
    "B_sample=500\n",
    "C_sample=1000\n",
    "seq_len2=seq_len\n",
    "seed_ts=1\n",
    "recom_rate2=recom_rate\n",
    "mut_rate2=mut_rate\n",
    "baseX, baseXB, baseXC, basemts1 = tree_sequence(initial_A, initial_B, initial_C, time_bottleneck, \n",
    "                                seq_len2,recom_rate2, mut_rate2, B_sample, C_sample, mig_rate, growth_rate, seed_ts)\n",
    "baseB = generate_B(baseXC, s, inclusion_prob, seed_B=None)\n",
    "baseh2B, baseh2C, YB = heritability(baseXB, baseXC, abs(baseB), h2,getY=True)\n"
   ]
  },
  {
   "cell_type": "code",
   "execution_count": null,
   "id": "db0ab53a-7768-4124-98eb-fdf606d3c424",
   "metadata": {},
   "outputs": [],
   "source": []
  }
 ],
 "metadata": {
  "kernelspec": {
   "display_name": "Python 3 (ipykernel)",
   "language": "python",
   "name": "python3"
  },
  "language_info": {
   "codemirror_mode": {
    "name": "ipython",
    "version": 3
   },
   "file_extension": ".py",
   "mimetype": "text/x-python",
   "name": "python",
   "nbconvert_exporter": "python",
   "pygments_lexer": "ipython3",
   "version": "3.12.1"
  }
 },
 "nbformat": 4,
 "nbformat_minor": 5
}
